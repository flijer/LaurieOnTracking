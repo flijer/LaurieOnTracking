{
 "cells": [
  {
   "cell_type": "code",
   "execution_count": 1,
   "metadata": {
    "ExecuteTime": {
     "end_time": "2020-05-16T10:47:19.678586Z",
     "start_time": "2020-05-16T10:47:18.512489Z"
    }
   },
   "outputs": [],
   "source": [
    "import ipywidgets as widgets\n",
    "from IPython.display import display, clear_output\n",
    "import pandas as pd\n",
    "import os\n",
    "from ipywidgets import interactive\n",
    "from ipywidgets import interact, interactive, fixed, interact_manual\n",
    "import matplotlib.pyplot as plt\n",
    "import matplotlib.image as mpimg\n",
    "import numpy as np\n",
    "import seaborn as sns\n",
    "import json\n",
    "from pandas.io.json import json_normalize\n",
    "from matplotlib.patches import Arc\n",
    "import matplotlib.patches as mpatches\n",
    "import matplotlib.gridspec as gridspec"
   ]
  },
  {
   "cell_type": "code",
   "execution_count": 2,
   "metadata": {
    "ExecuteTime": {
     "end_time": "2020-05-16T10:47:19.685494Z",
     "start_time": "2020-05-16T10:47:19.681486Z"
    }
   },
   "outputs": [],
   "source": [
    "from pathlib import Path\n",
    "cur_dir = Path().resolve()"
   ]
  },
  {
   "cell_type": "code",
   "execution_count": 3,
   "metadata": {
    "ExecuteTime": {
     "end_time": "2020-05-16T10:47:19.743534Z",
     "start_time": "2020-05-16T10:47:19.688491Z"
    }
   },
   "outputs": [],
   "source": [
    "def createPitch_multi(ax):\n",
    "    \n",
    "    #Pitch Outline & Centre Line\n",
    "    ax.plot([0,0],[0,90], color=\"black\")\n",
    "    ax.plot([0,130],[90,90], color=\"black\")\n",
    "    ax.plot([130,130],[90,0], color=\"black\")\n",
    "    ax.plot([130,0],[0,0], color=\"black\")\n",
    "    ax.plot([65,65],[0,90], color=\"black\")\n",
    "    \n",
    "    #Left Penalty Area\n",
    "    ax.plot([16.5,16.5],[65,25],color=\"black\")\n",
    "    ax.plot([0,16.5],[65,65],color=\"black\")\n",
    "    ax.plot([16.5,0],[25,25],color=\"black\")\n",
    "    \n",
    "    #Right Penalty Area\n",
    "    ax.plot([130,113.5],[65,65],color=\"black\")\n",
    "    ax.plot([113.5,113.5],[65,25],color=\"black\")\n",
    "    ax.plot([113.5,130],[25,25],color=\"black\")\n",
    "    \n",
    "    #Left 6-yard Box\n",
    "    ax.plot([0,5.5],[54,54],color=\"black\")\n",
    "    ax.plot([5.5,5.5],[54,36],color=\"black\")\n",
    "    ax.plot([5.5,0.5],[36,36],color=\"black\")\n",
    "    \n",
    "    #Right 6-yard Box\n",
    "    ax.plot([130,124.5],[54,54],color=\"black\")\n",
    "    ax.plot([124.5,124.5],[54,36],color=\"black\")\n",
    "    ax.plot([124.5,130],[36,36],color=\"black\")\n",
    "    \n",
    "    #Prepare Circles\n",
    "    centreCircle = plt.Circle((65,45),9.15,color=\"black\",fill=False)\n",
    "    centreSpot = plt.Circle((65,45),0.8,color=\"black\")\n",
    "    leftPenSpot = plt.Circle((11,45),0.8,color=\"black\")\n",
    "    rightPenSpot = plt.Circle((119,45),0.8,color=\"black\")\n",
    "    \n",
    "    #Draw Circles\n",
    "    print(ax)\n",
    "    ax.add_patch(centreCircle)\n",
    "    ax.add_patch(centreSpot)\n",
    "    ax.add_patch(leftPenSpot)\n",
    "    ax.add_patch(rightPenSpot)\n",
    "    \n",
    "    #Prepare Arcs\n",
    "    leftArc = Arc((11,45),height=18.3,width=18.3,angle=0,theta1=310,theta2=50,color=\"black\")\n",
    "    rightArc = Arc((119,45),height=18.3,width=18.3,angle=0,theta1=130,theta2=230,color=\"black\")\n",
    "\n",
    "    #Draw Arcs\n",
    "    ax.add_patch(leftArc)\n",
    "    ax.add_patch(rightArc)\n",
    "    \n",
    "    #Tidy Axes\n",
    "    ax.axis('off')\n",
    "    ax.set_ylim(0, 90)\n",
    "    ax.set_xlim(0, 130)\n",
    "   \n",
    "#     plt.ylim(0, 90)\n",
    "#     plt.xlim(0, 130)\n",
    "#     plt.tight_layout()\n",
    "    \n",
    "    return ax\n",
    "\n",
    "def createPitch():\n",
    "    \n",
    "#     #Create figure\n",
    "# #     fig=plt.figure()\n",
    "# #     plt.subplot(1, 2, 1)\n",
    "# #     plt.subplot(1, 2, 2)\n",
    "#     if i>0:\n",
    "#         fig, ax = plt.subplots(1, 2, i)\n",
    "        \n",
    "#         fig, axes = plt.subplots(nrows=1, ncols=2, figsize=(5, 3))\n",
    "#         axes[0].plot(x1, y1)\n",
    "#         axes[1].plot(x2, y2)\n",
    "        \n",
    "#     else:\n",
    "    fig, ax = plt.subplots(i,figsize=(7, 4))\n",
    "    #Pitch Outline & Centre Line\n",
    "    plt.plot([0,0],[0,90], color=\"black\")\n",
    "    plt.plot([0,130],[90,90], color=\"black\")\n",
    "    plt.plot([130,130],[90,0], color=\"black\")\n",
    "    plt.plot([130,0],[0,0], color=\"black\")\n",
    "    plt.plot([65,65],[0,90], color=\"black\")\n",
    "    \n",
    "    #Left Penalty Area\n",
    "    plt.plot([16.5,16.5],[65,25],color=\"black\")\n",
    "    plt.plot([0,16.5],[65,65],color=\"black\")\n",
    "    plt.plot([16.5,0],[25,25],color=\"black\")\n",
    "    \n",
    "    #Right Penalty Area\n",
    "    plt.plot([130,113.5],[65,65],color=\"black\")\n",
    "    plt.plot([113.5,113.5],[65,25],color=\"black\")\n",
    "    plt.plot([113.5,130],[25,25],color=\"black\")\n",
    "    \n",
    "    #Left 6-yard Box\n",
    "    plt.plot([0,5.5],[54,54],color=\"black\")\n",
    "    plt.plot([5.5,5.5],[54,36],color=\"black\")\n",
    "    plt.plot([5.5,0.5],[36,36],color=\"black\")\n",
    "    \n",
    "    #Right 6-yard Box\n",
    "    plt.plot([130,124.5],[54,54],color=\"black\")\n",
    "    plt.plot([124.5,124.5],[54,36],color=\"black\")\n",
    "    plt.plot([124.5,130],[36,36],color=\"black\")\n",
    "    \n",
    "    #Prepare Circles\n",
    "    centreCircle = plt.Circle((65,45),9.15,color=\"black\",fill=False)\n",
    "    centreSpot = plt.Circle((65,45),0.8,color=\"black\")\n",
    "    leftPenSpot = plt.Circle((11,45),0.8,color=\"black\")\n",
    "    rightPenSpot = plt.Circle((119,45),0.8,color=\"black\")\n",
    "    \n",
    "    #Draw Circles\n",
    "    ax[i].add_patch(centreCircle)\n",
    "    ax[i].add_patch(centreSpot)\n",
    "    ax[i].add_patch(leftPenSpot)\n",
    "    ax[i].add_patch(rightPenSpot)\n",
    "    \n",
    "    #Prepare Arcs\n",
    "    leftArc = Arc((11,45),height=18.3,width=18.3,angle=0,theta1=310,theta2=50,color=\"black\")\n",
    "    rightArc = Arc((119,45),height=18.3,width=18.3,angle=0,theta1=130,theta2=230,color=\"black\")\n",
    "\n",
    "    #Draw Arcs\n",
    "    ax[i].add_patch(leftArc)\n",
    "    ax[i].add_patch(rightArc)\n",
    "    \n",
    "    #Tidy Axes\n",
    "    plt.axis('off')\n",
    "   \n",
    "    #Display Pitch\n",
    "    #plt.show()\n",
    "    plt.ylim(0, 90)\n",
    "    plt.xlim(0, 130)\n",
    "    \n",
    "    return fig, ax\n",
    "\n",
    "def plot_pitch(ax,rotate=False):\n",
    "    if rotate:\n",
    "        return plot_pitch_rot(ax)\n",
    "    field_path = '{}/img/field_cropped.jpg'.format(cur_dir)\n",
    "    img1 = mpimg.imread(field_path)\n",
    "#     fig, ax = plt.subplots(figsize=(12, 10))\n",
    "\n",
    "    imgplot = ax.imshow(img1)\n",
    "    return ax\n",
    "\n",
    "def plot_pitch_rot(ax):\n",
    "    field_path = '{}/img/field_cropped_rot.jpg'.format(cur_dir)\n",
    "    img1 = mpimg.imread(field_path)\n",
    "#     fig, ax = plt.subplots(figsize=(13,8))\n",
    "\n",
    "    imgplot = ax.imshow(img1)\n",
    "    ax.set_ylim(0, 250)\n",
    "    \n",
    "    return ax\n",
    "\n",
    "\n",
    "\n",
    "def plot_goal(ax):\n",
    "#     fig, ax = plt.subplots(figsize=(13, 5))\n",
    "    # fig=plt.figure()\n",
    "    # ax=fig.add_subplot(1,1,1)\n",
    "    # ax = plt.gca()\n",
    "    ax.plot([36.3,37],[2.5,0.5],linewidth=2, color=\"grey\", fillstyle='full') #upper left\n",
    "    ax.plot([36,37],[0,0.5],linewidth=2, color=\"grey\", fillstyle='full') #upper left\n",
    "    ax.plot([43.7,43],[2.5,0.5],linewidth=2, color=\"grey\", fillstyle='full') #upper left\n",
    "    ax.plot([44,43],[0,0.5],linewidth=2, color=\"grey\", fillstyle='full') #upper left\n",
    "\n",
    "\n",
    "    ax.plot([43.7,44],[2.5,2.67],linewidth=2, color=\"grey\", fillstyle='full') #upper left\n",
    "    ax.plot([36,36.3],[2.67,2.5],linewidth=2, color=\"grey\", fillstyle='full') #upper left\n",
    "\n",
    "    #goal bar\n",
    "    ax.plot([36,36],[0,2.67],linewidth=8, color=\"black\") # x,x, y,y #left post\n",
    "    ax.plot([44,44],[0,2.67],linewidth=8, color=\"black\") # right post\n",
    "    ax.plot([36,44],[2.67,2.67],linewidth=8, color=\"black\") #cross bar\n",
    "\n",
    "    ax.plot([36,36],[0,2.67],linewidth=5, color=\"grey\") # x,x, y,y #left post\n",
    "    ax.plot([44,44],[0,2.67],linewidth=5, color=\"grey\") # right post\n",
    "    ax.plot([36,44],[2.67,2.67],linewidth=5, color=\"grey\") #cross bar\n",
    "\n",
    "\n",
    "    ax.plot([37,43],[0.5,0.5],linewidth=2, color=\"grey\") #cross bar\n",
    "\n",
    "\n",
    "    ax.plot([33,47],[-0.07,-0.07],linewidth=1, color=\"gray\") # goal line\n",
    "    \n",
    "    ax.set_axis_off()\n",
    "    \n",
    "    ax.set_ylim(-1.5, 4.0)\n",
    "    ax.set_xlim(33.5, 46.5)\n",
    "    \n",
    "    \n",
    "    return ax"
   ]
  },
  {
   "cell_type": "code",
   "execution_count": 4,
   "metadata": {
    "ExecuteTime": {
     "end_time": "2020-05-16T10:47:19.762487Z",
     "start_time": "2020-05-16T10:47:19.745486Z"
    }
   },
   "outputs": [],
   "source": [
    "def adjust_lightness(color, amount=0.5):\n",
    "    import matplotlib.colors as mc\n",
    "    import colorsys\n",
    "    try:\n",
    "        c = mc.cnames[color]\n",
    "    except:\n",
    "        c = color\n",
    "    c = colorsys.rgb_to_hls(*mc.to_rgb(c))\n",
    "    return colorsys.hls_to_rgb(c[0], max(0, min(1, amount * c[1])), c[2])\n",
    "\n",
    "def scale_to_visual(shot_location_start,rotate=False):\n",
    "    \"\"\"\n",
    "    scales to fit visual\n",
    "    \"\"\"\n",
    "    x_scale = 510 / 120\n",
    "    y_scale = 340/80\n",
    "    \n",
    "    if rotate:\n",
    "        shot_location_start = transpose_shot(shot_location_start)\n",
    "        x = np.round(shot_location_start[0] * x_scale) \n",
    "        y = np.round(shot_location_start[1] * y_scale)\n",
    "        \n",
    "        return [y,x]\n",
    "    \n",
    "    x = np.round(shot_location_start[0] * x_scale) \n",
    "    y = np.round(shot_location_start[1] * y_scale)\n",
    "    return [x, y]\n",
    "\n",
    "def scale_to_visual2(shot_location_start):\n",
    "    \"\"\"\n",
    "    scales to fit visual\n",
    "    \"\"\"\n",
    "    x_scale = 130 / 120\n",
    "    y_scale = 90 /80\n",
    "    \n",
    "    x = np.round(shot_location_start[0] * x_scale) \n",
    "    y = np.round(shot_location_start[1] * y_scale)\n",
    "    return [x, y]\n",
    "\n",
    "\n",
    "def transpose_shot(shot_location_start):\n",
    "    \"\"\"\n",
    "    if a shot occurs past the halfway line, tranpose the shot in x and y.\n",
    "    NOTE: Unnecessary cause all shots are on the right side of the field...\n",
    "    \"\"\"\n",
    "    if shot_location_start[0] > 60:\n",
    "        x = 120 - shot_location_start[0]\n",
    "        y = 80 - shot_location_start[1]\n",
    "        return [x, y]\n",
    "    else:\n",
    "        return shot_location_start\n"
   ]
  },
  {
   "cell_type": "code",
   "execution_count": 5,
   "metadata": {
    "ExecuteTime": {
     "end_time": "2020-05-16T10:47:19.786501Z",
     "start_time": "2020-05-16T10:47:19.768491Z"
    }
   },
   "outputs": [],
   "source": [
    "#team chart\n",
    "\n",
    "def show_heatmaps(teamname,ax, fig):\n",
    "#     fig, ax = createPitch(1)\n",
    "  \n",
    "    \n",
    "    ax1 =createPitch_multi(ax[0])\n",
    "    team_df = events_df[events_df['team.name']==teamname]\n",
    "    shots_df = team_df[team_df['type.name'].isin(['Shot'])]\n",
    "    pass_df= team_df[team_df['type.name'].isin(['Pass'])]\n",
    "    if len(shots_df) > 2:\n",
    "        sns.kdeplot([scale_to_visual2(x)[0] for x in shots_df['location']],\n",
    "                    [scale_to_visual2(x)[1] for x in shots_df['location']],\n",
    "                    n_levels=50,\n",
    "                    shade=True,\n",
    "                    cmap=\"Greens\",\n",
    "                    shade_lowest=False,\n",
    "                   ax=ax1)\n",
    "\n",
    "    ax1.set_title('Shots',fontsize=20)\n",
    "\n",
    "#     fig, ax2 = createPitch(2)\n",
    "    ax2 = createPitch_multi(ax[1])\n",
    "    if len(pass_df) > 2:\n",
    "        sns.kdeplot([scale_to_visual2(x)[0] for x in pass_df['location']],\n",
    "                    [scale_to_visual2(x)[1] for x in pass_df['location']],\n",
    "                    n_levels=50,\n",
    "                    shade=True,\n",
    "                    cmap=\"Greens\",\n",
    "                    shade_lowest=False,\n",
    "                    ax=ax2)\n",
    "\n",
    "    ax2.set_title('Passes',fontsize=20)\n",
    "    \n",
    "    \n",
    "#     fig, ax3 = createPitch(3)\n",
    "    ax3 =createPitch_multi(ax[2])\n",
    "    cross_df = team_df[['pass.cross','location','pass.end_location']].dropna()\n",
    "    if len(cross_df) > 2:\n",
    "        sns.kdeplot([scale_to_visual2(x)[0] for x in cross_df['location']],\n",
    "                [scale_to_visual2(x)[1] for x in cross_df['location']],\n",
    "                n_levels=50,\n",
    "                shade=True,\n",
    "                cmap=\"Greens\",\n",
    "                shade_lowest=False,\n",
    "                   ax=ax3)\n",
    "    ax3.set_title('Crosses',fontsize=20)\n",
    "\n",
    "    \n",
    "#     fig, ax4 = createPitch(4)\n",
    "    ax4 =  createPitch_multi(ax[3])\n",
    "    cutback_df = team_df[['pass.cut_back','location','pass.end_location']].dropna()\n",
    "    \n",
    "    if len(cutback_df) > 2:\n",
    "        sns.kdeplot([scale_to_visual2(x)[0] for x in cutback_df['location']],\n",
    "                    [scale_to_visual2(x)[1] for x in cutback_df['location']],\n",
    "                    n_levels=50,\n",
    "                    shade=True,\n",
    "                    cmap=\"Greens\",\n",
    "                    shade_lowest=False,\n",
    "                   ax=ax4)\n",
    "    ax4.set_title('Cutbacks'.format(dd_teams.value),fontsize=20)\n",
    "    \n",
    "    \n",
    "    # ax = plt.gca()\n",
    "    # ax.set_axis_off()\n",
    "#     plt.show()"
   ]
  },
  {
   "cell_type": "code",
   "execution_count": 6,
   "metadata": {
    "ExecuteTime": {
     "end_time": "2020-05-16T10:47:19.833486Z",
     "start_time": "2020-05-16T10:47:19.807487Z"
    }
   },
   "outputs": [],
   "source": [
    "key_pases = False\n",
    "def legend_without_duplicate_labels(ax):\n",
    "    handles, labels = ax.get_legend_handles_labels()\n",
    "    unique = [(h, l) for i, (h, l) in enumerate(zip(handles, labels)) if l not in labels[:i]]\n",
    "    ax.legend(*zip(*unique))\n",
    "    \n",
    "def draw_shot_chart(player, ax, ax2, rotate=False, ):\n",
    "    hk_df = events_df[events_df['player.name']==player]\n",
    "    hk_df = hk_df[hk_df['shot.type.name'] !='Penalty']\n",
    "    outcome_types = ['Blocked', 'Goal', 'Off T', 'Post', 'Saved', 'Wayward']\n",
    "    key_passes = hk_df[['shot.outcome.name','shot.key_pass_id']].dropna()\n",
    "    events_df[events_df['id'].isin(key_passes['shot.key_pass_id'])][['location','pass.end_location','pass.recipient.name','pass.assisted_shot_id']]\n",
    "    events_df[events_df['id'].isin(key_passes['shot.key_pass_id'])]['pass.assisted_shot_id']\n",
    "\n",
    "\n",
    "#     ax = plot_pitch(rotate)\n",
    "    plot_pitch(ax,rotate=cb.value)\n",
    "       \n",
    "\n",
    "    markers = ['o','*','v','s','h','p']\n",
    "    colors = sns.color_palette(\"Blues_d\")\n",
    "    for idx, oc in enumerate(outcome_types):\n",
    "\n",
    "        s_loc = hk_df[hk_df['shot.outcome.name'].isin([oc])][['shot.statsbomb_xg',\n",
    "                                                              'location',\n",
    "                                                              'shot.follows_dribble',\n",
    "                                                              'shot.first_time',\n",
    "                                                             'shot.technique.name']]  \n",
    "\n",
    "        ax.scatter(x=[scale_to_visual(x,rotate)[0] for x in s_loc['location']],\n",
    "                   y=[scale_to_visual(x,rotate)[1] for x in s_loc['location']],\n",
    "                   alpha=0.7,\n",
    "                   color=[adjust_lightness('r',.8-(x*3)) for x in s_loc['shot.statsbomb_xg']],\n",
    "                   s=350, #[500 if x==True else 250 for x in s_loc['shot.first_time']],\n",
    "                   marker=markers[idx],\n",
    "    #                c=colors[index],\n",
    "                   label=oc)\n",
    "\n",
    "    #Key passes\n",
    "    if key_pases:\n",
    "        passes_df = events_df[events_df['id'].isin(key_passes['shot.key_pass_id'])][['location','pass.goal_assist','pass.end_location','pass.angle','pass.height.name','player.name','pass.shot_assist']]\n",
    "        # passes_df = passes_df[passes_df['pass.shot_assist'] == True]\n",
    "        pass_types =['-', '--', '-.', ':']\n",
    "        pass_types_names = list(set(events_df['pass.height.name'].dropna()))\n",
    "        for i,l in passes_df.iterrows():\n",
    "        #     print(l) [['location','pass.end_location']]\n",
    "\n",
    "            start_loc = scale_to_visual(l['location'])\n",
    "            end_loc = scale_to_visual(l['pass.end_location'])\n",
    "\n",
    "            angle = l['pass.angle']/5\n",
    "            ax.annotate(l['player.name'].split(' ')[-1],\n",
    "                xy=end_loc, \n",
    "                xytext=start_loc,\n",
    "                size=15,\n",
    "                arrowprops=dict(arrowstyle=\"fancy\",\n",
    "                                fc=\"0.8\",\n",
    "                                connectionstyle=\"arc3,rad={}\".format(angle)\n",
    "                               ))\n",
    "\n",
    "    #     ax.annotate(l['player.name'], xy=end_loc, xytext=start_loc, arrowprops=dict(facecolor='black', shrink=3))\n",
    "\n",
    "\n",
    "    ax.set_title('{}\\nShot Chart in 2018 World Cup'.format(player),fontsize=20)\n",
    "\n",
    "    params = {'legend.fontsize': 12,\n",
    "              'legend.handlelength': 2,\n",
    "             }\n",
    "    plt.rcParams.update(params)\n",
    "    if rotate:\n",
    "         ax.legend(loc='upper left', bbox_to_anchor=(0, 1))\n",
    "    else:\n",
    "        ax.legend(loc='upper left', bbox_to_anchor=(0.5, 1))\n",
    "    # ax.set_xlim(100)\n",
    "    ax.set_axis_off()\n",
    "    \n",
    "\n",
    "    #Goal Shots\n",
    "    shot_outcome = ['Saved','Off T','Post','Goal']\n",
    "    colors = ['red','darkred','orange','green']\n",
    "\n",
    "    index=0\n",
    "#     ax3 = plot_goal()\n",
    "    ax2 = plot_goal(ax2)\n",
    "    hk_df['xG'] = hk_df['shot.statsbomb_xg']*100 #gk_df['xG'] = pd.qcut(gk_df['xG'],q=4,labels=[0,0.2,0.4,0.6],retbins=False)\n",
    "\n",
    "    legend_items = list()\n",
    "    counter = 0\n",
    "    for outcome in shot_outcome:\n",
    "        s_loc = hk_df[hk_df['shot.outcome.name'].isin([outcome])][['shot.end_location','xG','location']]  \n",
    "        for i, shot in s_loc.iterrows():     \n",
    "            \n",
    "            patch = plt.Circle(\n",
    "                       (shot['shot.end_location'][1],\n",
    "                        shot['shot.end_location'][2]),\n",
    "                       .20,#np.sqrt((shot['xG']+0.01)/1000),\n",
    "                       facecolor=colors[index],\n",
    "#                        edgecolor = colors[index],\n",
    "                       linewidth=2,\n",
    "                       label=outcome,\n",
    "                \n",
    "                      )\n",
    "            label = ax2.annotate(str(counter), \n",
    "                                xy=(shot['shot.end_location'][1], \n",
    "                                    shot['shot.end_location'][2]), \n",
    "                                color='white',\n",
    "                                fontsize=10, \n",
    "                                fontweight='bold',\n",
    "                                 ha=\"center\")\n",
    "             #First chart\n",
    "            label = ax.annotate(str(counter), \n",
    "                                xy=(scale_to_visual(shot['location'],rotate)), \n",
    "                                color='white',\n",
    "                                fontsize=10, \n",
    "                                fontweight='bold',\n",
    "                                 ha=\"center\")\n",
    "\n",
    "            ax2.add_patch(patch)\n",
    "            counter = counter +1\n",
    "        index = index +1\n",
    "        \n",
    "    \n",
    "#     ax3.set_title('{}\\nShot Chart in 2018 World Cup'.format(player),fontsize=20)\n",
    "    legend_without_duplicate_labels(ax2)\n",
    "#     ax3.legend()\n",
    "#     plt.show()"
   ]
  },
  {
   "cell_type": "markdown",
   "metadata": {},
   "source": [
    "# Event Data from World Cup 2018"
   ]
  },
  {
   "cell_type": "code",
   "execution_count": 7,
   "metadata": {
    "ExecuteTime": {
     "end_time": "2020-05-16T10:47:22.981661Z",
     "start_time": "2020-05-16T10:47:20.446664Z"
    }
   },
   "outputs": [],
   "source": [
    "# #read data\n",
    "events_df = pd.read_hdf('{}/event_data_wc.hdf'.format(cur_dir),key='wc')\n",
    "# events_df.to_hdf('event_data_wc.hdf',key='wc',complib='bzip2')"
   ]
  },
  {
   "cell_type": "code",
   "execution_count": 8,
   "metadata": {
    "ExecuteTime": {
     "end_time": "2020-05-16T10:47:23.014660Z",
     "start_time": "2020-05-16T10:47:22.986664Z"
    }
   },
   "outputs": [],
   "source": [
    "def read_event_data():\n",
    "    with open('{}/data_/competitions.json'.format(cur_dir), encoding='utf-8') as json_file:\n",
    "        competitions = pd.DataFrame(json.load(json_file, encoding=\"utf-8\"))\n",
    "\n",
    "    competition_id = 43 #WorldCup\n",
    "    season_id= 3 #2018/19\n",
    "    seasons = competitions[competitions['competition_id']==competition_id][['season_name','season_id']]\n",
    "    matches_path = '{}/data_/matches/{}/{}.json'.format(cur_dir,competition_id,season_id)\n",
    "    events_path = '{}/data_/events/{}.json'\n",
    "    teams_path = '{}/data_/lineups/{}.json'\n",
    "\n",
    "    def join_teams(x, x2):\n",
    "        return sorted([x,x2])\n",
    "\n",
    "    events = list()\n",
    "    with open(matches_path, encoding='utf-8') as json_file:\n",
    "        matches = json_normalize(json.load(json_file, encoding=\"utf-8\"))\n",
    "        for idx, match_id in matches[['match_id','home_team.home_team_name','away_team.away_team_name']].iterrows():\n",
    "            with open(events_path.format(cur_dir,match_id['match_id']), encoding='utf-8') as json_file2:\n",
    "                data = json.load(json_file2, encoding=\"utf-8\")\n",
    "                df = json_normalize(data)\n",
    "                df['match_id']= match_id['match_id']   \n",
    "                df['both_teams'] = str(join_teams(match_id['home_team.home_team_name'], match_id['away_team.away_team_name']))\n",
    "\n",
    "                events.append(df)\n",
    "    events_df = pd.concat(events) #Events for all competitions\n",
    "    events_df = events_df[['id','location','type.name',\n",
    "                       'pass.goal_assist','pass.shot_assist','pass.end_location','pass.angle','pass.height.name','pass.recipient.name','pass.assisted_shot_id',\n",
    "                        'pass.cut_back','pass.cross',\n",
    "                       'shot.outcome.name','shot.key_pass_id','shot.statsbomb_xg','shot.follows_dribble','shot.first_time','shot.technique.name','shot.type.name',\n",
    "                        'shot.end_location','shot.open_goal','shot.aerial_won', 'shot.freeze_frame',\n",
    "                        'team.name','player.name'\n",
    "                       ]]\n",
    "    return events_df"
   ]
  },
  {
   "cell_type": "code",
   "execution_count": 9,
   "metadata": {
    "ExecuteTime": {
     "end_time": "2020-05-16T10:47:23.105664Z",
     "start_time": "2020-05-16T10:47:23.016660Z"
    }
   },
   "outputs": [
    {
     "data": {
      "application/vnd.jupyter.widget-view+json": {
       "model_id": "4a01bfff195c414f8c27d93b23c85383",
       "version_major": 2,
       "version_minor": 0
      },
      "text/plain": [
       "Dropdown(description='Teams:', index=9, options=('Argentina', 'Australia', 'Belgium', 'Brazil', 'Colombia', 'C…"
      ]
     },
     "metadata": {},
     "output_type": "display_data"
    }
   ],
   "source": [
    "dd_teams = widgets.Dropdown(\n",
    "    options=events_df['team.name'].drop_duplicates().dropna().sort_values(),\n",
    "    description='Teams:',\n",
    "    disabled=False,\n",
    "    value ='England'\n",
    ")\n",
    "dd_players = widgets.Dropdown(\n",
    "    options=events_df[events_df['team.name']==dd_teams.value]['player.name'].drop_duplicates().dropna().sort_values(),\n",
    "    description='Player:',\n",
    "    disabled=False,\n",
    "    value ='Harry Kane'\n",
    ")\n",
    "def on_change_team(change):\n",
    "    if change['type'] == 'change' and change['name'] == 'value':       \n",
    "        dd_players.options = events_df[events_df['team.name']==dd_teams.value]['player.name'].drop_duplicates().dropna().sort_values()\n",
    "\n",
    "        \n",
    "dd_teams.observe(on_change_team)\n",
    "display(dd_teams)"
   ]
  },
  {
   "cell_type": "code",
   "execution_count": 10,
   "metadata": {
    "ExecuteTime": {
     "end_time": "2020-05-16T10:47:23.134676Z",
     "start_time": "2020-05-16T10:47:23.107684Z"
    },
    "scrolled": false
   },
   "outputs": [
    {
     "data": {
      "application/vnd.jupyter.widget-view+json": {
       "model_id": "8de1e34b7dea4b5d84f99bbe67f3f27b",
       "version_major": 2,
       "version_minor": 0
      },
      "text/plain": [
       "Button(description='Show Heat Map', style=ButtonStyle())"
      ]
     },
     "metadata": {},
     "output_type": "display_data"
    },
    {
     "data": {
      "application/vnd.jupyter.widget-view+json": {
       "model_id": "fb42b4019b134c63ac190cb5ac56168b",
       "version_major": 2,
       "version_minor": 0
      },
      "text/plain": [
       "Output()"
      ]
     },
     "metadata": {},
     "output_type": "display_data"
    }
   ],
   "source": [
    "#Shot chart\n",
    "button_hm = widgets.Button(description=\"Show Heat Map\")\n",
    "output_hm = widgets.Output()\n",
    "\n",
    "display(button_hm, output_hm)\n",
    "\n",
    "def on_button_heatmap_clicked(b):\n",
    "    with output_hm:\n",
    "        clear_output()\n",
    "        #fig, ax = plt.subplots(4,1,figsize=(15, 15))#,constrained_layout=False)#,figsize=(15, 15))\n",
    "        #fig = plt.figure(figsize=(15,10))\n",
    "        \n",
    "        fig = plt.figure(constrained_layout=False,figsize=(20,15))\n",
    "        spec2 = gridspec.GridSpec(ncols=2, nrows=2, figure=fig)\n",
    "       \n",
    "        ax1 = fig.add_subplot(spec2[0, 0])\n",
    "        ax2 = fig.add_subplot(spec2[0, 1])\n",
    "        ax3 = fig.add_subplot(spec2[1, 0])\n",
    "        ax4 = fig.add_subplot(spec2[1, 1])\n",
    "       \n",
    "        \n",
    "        fig.suptitle('{}\\nHeat Maps in World Cup'.format(dd_teams.value), fontsize=22)\n",
    "        plt.subplots_adjust(bottom=0.15, wspace=0.05);\n",
    "        show_heatmaps(dd_teams.value,[ax1,ax2,ax3,ax4],fig)\n",
    "       \n",
    "       \n",
    "      #  ax = plot_pitch()\n",
    "        plt.savefig('heatmaps_{}.pdf'.format(dd_teams.value))\n",
    "        plt.show()\n",
    "        \n",
    "#         plt.plot([3,1,4,1,5], 'ks-', mec='w', mew=5, ms=20)\n",
    "        \n",
    "        \n",
    "button_hm.on_click(on_button_heatmap_clicked)\n"
   ]
  },
  {
   "cell_type": "markdown",
   "metadata": {},
   "source": [
    "# Player Shot Charts"
   ]
  },
  {
   "cell_type": "code",
   "execution_count": 11,
   "metadata": {
    "ExecuteTime": {
     "end_time": "2020-05-16T10:47:23.143660Z",
     "start_time": "2020-05-16T10:47:23.136666Z"
    }
   },
   "outputs": [
    {
     "data": {
      "application/vnd.jupyter.widget-view+json": {
       "model_id": "be1d8c8bd8fd4869b91b8cfaac561969",
       "version_major": 2,
       "version_minor": 0
      },
      "text/plain": [
       "Dropdown(description='Player:', index=7, options=('Ashley Young', 'Bamidele Alli', 'Daniel Nii Tackie Mensah W…"
      ]
     },
     "metadata": {},
     "output_type": "display_data"
    }
   ],
   "source": [
    "display(dd_players)"
   ]
  },
  {
   "cell_type": "code",
   "execution_count": 12,
   "metadata": {
    "ExecuteTime": {
     "end_time": "2020-05-16T10:47:25.498872Z",
     "start_time": "2020-05-16T10:47:25.471905Z"
    }
   },
   "outputs": [
    {
     "data": {
      "application/vnd.jupyter.widget-view+json": {
       "model_id": "b173739ad78a4404a8c1807a823f54a2",
       "version_major": 2,
       "version_minor": 0
      },
      "text/plain": [
       "Button(description='Show Shot Chart', style=ButtonStyle())"
      ]
     },
     "metadata": {},
     "output_type": "display_data"
    },
    {
     "data": {
      "application/vnd.jupyter.widget-view+json": {
       "model_id": "dcc0742b2cf64ecc8389c8dc8924d7e0",
       "version_major": 2,
       "version_minor": 0
      },
      "text/plain": [
       "Checkbox(value=False, description='Rotate')"
      ]
     },
     "metadata": {},
     "output_type": "display_data"
    },
    {
     "data": {
      "application/vnd.jupyter.widget-view+json": {
       "model_id": "7aefe8a18fdf46018472dba66571ddc3",
       "version_major": 2,
       "version_minor": 0
      },
      "text/plain": [
       "Output()"
      ]
     },
     "metadata": {},
     "output_type": "display_data"
    }
   ],
   "source": [
    "#Shot chart\n",
    "button = widgets.Button(description=\"Show Shot Chart\")\n",
    "output = widgets.Output()\n",
    "\n",
    "cb = widgets.Checkbox(\n",
    "    value=False,\n",
    "    description='Rotate',\n",
    "    disabled=False,\n",
    "    indent=True\n",
    ")\n",
    "\n",
    "display(button,cb, output)\n",
    "\n",
    "\n",
    "def on_button_shot_clicked(b):\n",
    "    with output:\n",
    "        clear_output()\n",
    "        fig = plt.figure(constrained_layout=True, figsize=(10,10))\n",
    "        spec2 = gridspec.GridSpec(ncols=1, nrows=2, figure=fig)\n",
    "       \n",
    "        ax1 = fig.add_subplot(spec2[0, 0])\n",
    "        ax2 = fig.add_subplot(spec2[1, 0])\n",
    "              \n",
    "        draw_shot_chart(dd_players.value, ax1, ax2, rotate=cb.value)\n",
    "        plt.savefig('ShotChart_{}.pdf'.format(dd_players.value))\n",
    "        \n",
    "      #  ax = plot_pitch()\n",
    "        plt.show()\n",
    "#         plt.plot([3,1,4,1,5], 'ks-', mec='w', mew=5, ms=20)\n",
    "        \n",
    "        \n",
    "button.on_click(on_button_shot_clicked)"
   ]
  }
 ],
 "metadata": {
  "kernelspec": {
   "display_name": "FcPythonDashboard-AW4x535J",
   "language": "python",
   "name": "fcpythondashboard-aw4x535j"
  },
  "language_info": {
   "codemirror_mode": {
    "name": "ipython",
    "version": 3
   },
   "file_extension": ".py",
   "mimetype": "text/x-python",
   "name": "python",
   "nbconvert_exporter": "python",
   "pygments_lexer": "ipython3",
   "version": "3.7.1"
  }
 },
 "nbformat": 4,
 "nbformat_minor": 2
}
